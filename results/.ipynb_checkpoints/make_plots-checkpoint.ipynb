{
 "cells": [
  {
   "cell_type": "code",
   "execution_count": 41,
   "metadata": {},
   "outputs": [],
   "source": [
    "import pandas as pd\n",
    "import numpy as np\n",
    "import json\n",
    "import os\n",
    "from plotnine import *\n",
    "from plotnine.data import *\n",
    "\n",
    "%matplotlib inline"
   ]
  },
  {
   "cell_type": "code",
   "execution_count": 48,
   "metadata": {},
   "outputs": [
    {
     "name": "stdout",
     "output_type": "stream",
     "text": [
      "[(0, 86.85\n"
     ]
    },
    {
     "ename": "ValueError",
     "evalue": "could not convert string to float: '[(0'",
     "output_type": "error",
     "traceback": [
      "\u001b[0;31m---------------------------------------------------------------------------\u001b[0m",
      "\u001b[0;31mValueError\u001b[0m                                Traceback (most recent call last)",
      "\u001b[0;32m<ipython-input-48-1af1e41ff904>\u001b[0m in \u001b[0;36m<module>\u001b[0;34m\u001b[0m\n\u001b[1;32m     20\u001b[0m             \u001b[0mprint\u001b[0m\u001b[0;34m(\u001b[0m\u001b[0ma_tuple\u001b[0m\u001b[0;34m)\u001b[0m\u001b[0;34m\u001b[0m\u001b[0;34m\u001b[0m\u001b[0m\n\u001b[1;32m     21\u001b[0m             \u001b[0msparcity\u001b[0m\u001b[0;34m,\u001b[0m \u001b[0maccuracy\u001b[0m \u001b[0;34m=\u001b[0m \u001b[0ma_tuple\u001b[0m\u001b[0;34m.\u001b[0m\u001b[0msplit\u001b[0m\u001b[0;34m(\u001b[0m\u001b[0;34m','\u001b[0m\u001b[0;34m)\u001b[0m\u001b[0;34m\u001b[0m\u001b[0;34m\u001b[0m\u001b[0m\n\u001b[0;32m---> 22\u001b[0;31m             \u001b[0mdf\u001b[0m \u001b[0;34m=\u001b[0m\u001b[0mdf\u001b[0m\u001b[0;34m.\u001b[0m\u001b[0mappend\u001b[0m\u001b[0;34m(\u001b[0m\u001b[0;34m{\u001b[0m\u001b[0;34m\"epoch\"\u001b[0m\u001b[0;34m:\u001b[0m\u001b[0mepoch\u001b[0m\u001b[0;34m,\u001b[0m\u001b[0;34m\"accuracy\"\u001b[0m\u001b[0;34m:\u001b[0m\u001b[0mfloat\u001b[0m\u001b[0;34m(\u001b[0m\u001b[0maccuracy\u001b[0m\u001b[0;34m)\u001b[0m\u001b[0;34m,\u001b[0m\u001b[0;34m\"sparcity\"\u001b[0m\u001b[0;34m:\u001b[0m\u001b[0mfloat\u001b[0m\u001b[0;34m(\u001b[0m\u001b[0msparcity\u001b[0m\u001b[0;34m)\u001b[0m\u001b[0;34m,\u001b[0m\u001b[0;34m\"prune_method\"\u001b[0m\u001b[0;34m:\u001b[0m\u001b[0mprune_method\u001b[0m\u001b[0;34m,\u001b[0m\u001b[0;34m\"dataset\"\u001b[0m\u001b[0;34m:\u001b[0m\u001b[0mdataset\u001b[0m\u001b[0;34m,\u001b[0m\u001b[0;34m\"arch\"\u001b[0m\u001b[0;34m:\u001b[0m\u001b[0march\u001b[0m\u001b[0;34m}\u001b[0m\u001b[0;34m,\u001b[0m\u001b[0mignore_index\u001b[0m\u001b[0;34m=\u001b[0m\u001b[0;32mTrue\u001b[0m\u001b[0;34m)\u001b[0m\u001b[0;34m\u001b[0m\u001b[0;34m\u001b[0m\u001b[0m\n\u001b[0m\u001b[1;32m     23\u001b[0m \u001b[0;34m\u001b[0m\u001b[0m\n\u001b[1;32m     24\u001b[0m \u001b[0mdf\u001b[0m\u001b[0;34m\u001b[0m\u001b[0;34m\u001b[0m\u001b[0m\n",
      "\u001b[0;31mValueError\u001b[0m: could not convert string to float: '[(0'"
     ]
    }
   ],
   "source": [
    "df = pd.DataFrame(columns={\"epoch\",\"accuracy\", \"sparcity\",\"prune_method\",\"dataset\",\"arch\"})\n",
    "for filename in os.listdir(os.getcwd()):\n",
    "    with open(os.path.join(os.getcwd(), filename), 'r') as f:\n",
    "        for l in f:\n",
    "            pass  \n",
    "    epoch = 0\n",
    "    arch = filename.split('cifar')[0]\n",
    "    if 'cifar100' in filename:\n",
    "        dataset = 'cifar100'\n",
    "    else:\n",
    "        dataset = 'cifar10'\n",
    "    prune_method = filename.split('Prune')[1].split('11272020.txt')[0]\n",
    "    for a_tuple in l.strip().split(\":\")[1][1:-1].split(')'):\n",
    "        if len(a_tuple) > 2:\n",
    "            epoch  += 1\n",
    "            if (a_tuple[0] == ','):\n",
    "                a_tuple = a_tuple[2:]\n",
    "            if a_tuple[0] == '(':\n",
    "                a_tuple = a_tuple[1:]\n",
    "            print(a_tuple)\n",
    "            sparcity, accuracy = a_tuple.split(',')\n",
    "            df =df.append({\"epoch\":epoch,\"accuracy\":float(accuracy),\"sparcity\":float(sparcity),\"prune_method\":prune_method,\"dataset\":dataset,\"arch\":arch},ignore_index=True)\n",
    "            \n",
    "df"
   ]
  },
  {
   "cell_type": "code",
   "execution_count": null,
   "metadata": {},
   "outputs": [],
   "source": [
    "\n",
    "def gemerate_plot(filename):\n",
    "    df = pd.DataFrame(columns={\"batches\",\"value\", \"type\"})\n",
    "    for row in pd.read_csv(filename).iterrows():\n",
    "        df =df.append({\"batches\":row[1][0],\"value\":row[1][1],\"type\":\"Baseline\"},ignore_index=True)\n",
    "        df =df.append({\"batches\":row[1][0],\"value\":row[1][2],\"type\":\"Random\"},ignore_index=True)\n",
    "        df =df.append({\"batches\":row[1][0],\"value\":row[1][3],\"type\":\"DEP\"},ignore_index=True)\n",
    "        df =df.append({\"batches\":row[1][0],\"value\":row[1][4],\"type\":\"POS\"},ignore_index=True)\n",
    "        df =df.append({\"batches\":row[1][0],\"value\":row[1][5],\"type\":\"Unigram\"},ignore_index=True)\n",
    "        df =df.append({\"batches\":row[1][0],\"value\":row[1][6],\"type\":\"Bigram\"},ignore_index=True)\n",
    "        df =df.append({\"batches\":row[1][0],\"value\":row[1][7],\"type\":\"Trigram\"},ignore_index=True)\n",
    "        df =df.append({\"batches\":row[1][0],\"value\":row[1][8],\"type\":\"Length\"},ignore_index=True)\n",
    "    return (ggplot(df, aes(x='batches', y='value', color='type'))\n",
    "         + geom_smooth(method='auto', span=0.0, se=False, level=0.00)\n",
    "         # Then you can change the colour using a scale\n",
    "        )"
   ]
  },
  {
   "cell_type": "code",
   "execution_count": null,
   "metadata": {},
   "outputs": [],
   "source": [
    "import os\n",
    "for filename in os.listdir(os.getcwd()):\n",
    "   with open(os.path.join(os.getcwd(), filename), 'r') as f"
   ]
  },
  {
   "cell_type": "code",
   "execution_count": 4,
   "metadata": {},
   "outputs": [],
   "source": [
    "filename = 'VGG16cifar10PruneL111272020.txt'"
   ]
  },
  {
   "cell_type": "code",
   "execution_count": 8,
   "metadata": {},
   "outputs": [
    {
     "data": {
      "text/plain": [
       "'L1'"
      ]
     },
     "execution_count": 8,
     "metadata": {},
     "output_type": "execute_result"
    }
   ],
   "source": []
  },
  {
   "cell_type": "code",
   "execution_count": null,
   "metadata": {},
   "outputs": [],
   "source": []
  }
 ],
 "metadata": {
  "kernelspec": {
   "display_name": "condabase",
   "language": "python",
   "name": "condabase"
  },
  "language_info": {
   "codemirror_mode": {
    "name": "ipython",
    "version": 3
   },
   "file_extension": ".py",
   "mimetype": "text/x-python",
   "name": "python",
   "nbconvert_exporter": "python",
   "pygments_lexer": "ipython3",
   "version": "3.8.3"
  }
 },
 "nbformat": 4,
 "nbformat_minor": 4
}
